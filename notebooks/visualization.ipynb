# MultiOmics Integration: Visualization

import pandas as pd
import matplotlib.pyplot as plt
import seaborn as sns

# Load integrated omics data
integrated_data = pd.read_csv('results/integrated_data.csv')

# Visualize gene expression levels across samples
sns.set(style='whitegrid')
plt.figure(figsize=(10, 6))
sns.boxplot(data=integrated_data[['Transcriptomics_Gene1', 'Transcriptomics_Gene2', 'Transcriptomics_Gene3']])
plt.title('Gene Expression Levels')
plt.xlabel('Genes')
plt.ylabel('Expression Level')
plt.xticks(rotation=45)
plt.tight_layout()
plt.show()

# Visualize protein abundance across samples
plt.figure(figsize=(10, 6))
sns.boxplot(data=integrated_data[['Proteomics_Protein1', 'Proteomics_Protein2', 'Proteomics_Protein3']])
plt.title('Protein Abundance')
plt.xlabel('Proteins')
plt.ylabel('Abundance')
plt.xticks(rotation=45)
plt.tight_layout()
plt.show()
